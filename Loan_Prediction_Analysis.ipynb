{
  "cells": [
    {
      "cell_type": "markdown",
      "metadata": {
        "id": "oyyd0Tdj0w96"
      },
      "source": [
        "\n",
        "\n",
        "# Dataset Information\n",
        "\n",
        "Dream Housing Finance company deals in all home loans. They have presence across all urban, semi urban and rural areas. Customer first apply for home loan after that company validates the customer eligibility for loan. Company wants to automate the loan eligibility process (real time) based on customer detail provided while filling online application form. These details are Gender, Marital Status, Education, Number of Dependents, Income, Loan Amount, Credit History and others. To automate this process, they have given a problem to identify the customers segments, those are eligible for loan amount so that they can specifically target these customers.\n",
        "   \n",
        "Variable | Description\n",
        "----------|--------------\n",
        "Loan_ID | Unique Loan ID\n",
        "Gender | Male/ Female\n",
        "Married | Applicant married (Y/N)\n",
        "Dependents | Number of dependents\n",
        "Education | Applicant Education (Graduate/ Under Graduate)\n",
        "Self_Employed | Self employed (Y/N)\n",
        "ApplicantIncome | Applicant income\n",
        "CoapplicantIncome | Coapplicant income\n",
        "LoanAmount | Loan amount in thousands\n",
        "Loan_Amount_Term | Term of loan in months\n",
        "Credit_History | credit history meets guidelines\n",
        "Property_Area | Urban/ Semi Urban/ Rural\n",
        "Loan_Status | Loan approved (Y/N)"
      ]
    },
    {
      "cell_type": "code",
      "execution_count": null,
      "metadata": {
        "id": "94Ip5-pi0w98"
      },
      "outputs": [],
      "source": [
        "# importing all the required libraries use in the project.\n",
        "\n",
        "import pandas as pd\n",
        "import numpy as np\n",
        "import seaborn as sns\n",
        "from sklearn.preprocessing import LabelEncoder\n",
        "from sklearn.model_selection import train_test_split\n",
        "from sklearn.linear_model import LogisticRegression\n",
        "from sklearn.decomposition import PCA\n",
        "from sklearn.tree import DecisionTreeClassifier\n",
        "from sklearn.metrics import confusion_matrix,accuracy_score\n",
        "from matplotlib import pyplot as plt\n",
        "import warnings\n",
        "warnings.filterwarnings('ignore')\n"
      ]
    },
    {
      "cell_type": "markdown",
      "metadata": {
        "id": "CkjqvQ6f0w99"
      },
      "source": [
        "# Retrieving Data"
      ]
    },
    {
      "cell_type": "code",
      "execution_count": null,
      "metadata": {
        "id": "CoQhD51Q0w99"
      },
      "outputs": [],
      "source": [
        "# loading the data from cvs file\n",
        "# showing the first 5 rows from the data\n",
        "\n",
        "df = pd.read_csv('train_loan_dataset.csv')\n",
        "df.head()"
      ]
    },
    {
      "cell_type": "code",
      "execution_count": null,
      "metadata": {
        "id": "tfxoD_fs0w9-"
      },
      "outputs": [],
      "source": [
        "# rows and columns of the dataset\n",
        "\n",
        "df.shape"
      ]
    },
    {
      "cell_type": "code",
      "execution_count": null,
      "metadata": {
        "id": "3yHgl0TL0w9-"
      },
      "outputs": [],
      "source": [
        "# statistical visualization\n",
        "\n",
        "df.describe()"
      ]
    },
    {
      "cell_type": "code",
      "execution_count": null,
      "metadata": {
        "id": "xUEC6LL60w9-"
      },
      "outputs": [],
      "source": [
        "# data type of the features\n",
        "\n",
        "df.info()"
      ]
    },
    {
      "cell_type": "markdown",
      "metadata": {
        "id": "K9POMdyX0w9-"
      },
      "source": [
        "# Data Preparation"
      ]
    },
    {
      "cell_type": "code",
      "execution_count": null,
      "metadata": {
        "id": "JiqiNA3W0w9_"
      },
      "outputs": [],
      "source": [
        "# find missing values of each feature of the dataset\n",
        "\n",
        "df.isnull().sum()"
      ]
    },
    {
      "cell_type": "code",
      "execution_count": null,
      "metadata": {
        "id": "C3V-nP-n0w9_"
      },
      "outputs": [],
      "source": [
        "# First we will the filling the missing values for numerical terms - By using mean\n",
        "\n",
        "df['LoanAmount'] = df['LoanAmount'].fillna(df['LoanAmount'].mean())\n",
        "df['Loan_Amount_Term'] = df['Loan_Amount_Term'].fillna(df['Loan_Amount_Term'].mean())\n",
        "df['Credit_History'] = df['Credit_History'].fillna(df['Credit_History'].mean())"
      ]
    },
    {
      "cell_type": "code",
      "execution_count": null,
      "metadata": {
        "id": "0O1vXHx80w9_"
      },
      "outputs": [],
      "source": [
        "# missing values of the dataset\n",
        "\n",
        "df.isnull().sum()"
      ]
    },
    {
      "cell_type": "code",
      "execution_count": null,
      "metadata": {
        "id": "chk2j7dP0w9_"
      },
      "outputs": [],
      "source": [
        "# THen we will the filling the missing values for categorical terms - By using mode operation (frequently occurring values)\n",
        "\n",
        "df['Gender'] = df[\"Gender\"].fillna(df['Gender'].mode()[0])\n",
        "df['Married'] = df[\"Married\"].fillna(df['Married'].mode()[0])\n",
        "df['Dependents'] = df[\"Dependents\"].fillna(df['Dependents'].mode()[0])\n",
        "df['Self_Employed'] = df[\"Self_Employed\"].fillna(df['Self_Employed'].mode()[0])"
      ]
    },
    {
      "cell_type": "code",
      "execution_count": null,
      "metadata": {
        "id": "tZ8CKuyV0w9_"
      },
      "outputs": [],
      "source": [
        "# Missing values in the dataset\n",
        "\n",
        "df.isnull().sum()"
      ]
    },
    {
      "cell_type": "code",
      "execution_count": null,
      "metadata": {
        "id": "LIVUmVQs0w9_"
      },
      "outputs": [],
      "source": [
        "# Label encoding to convert string or object to numeric values\n",
        "\n",
        "le = LabelEncoder()\n",
        "df[\"Loan_Status\"] = le.fit_transform(df[\"Loan_Status\"])\n",
        "df[\"Gender\"] = le.fit_transform(df[\"Gender\"])\n",
        "df[\"Married\"] = le.fit_transform(df[\"Married\"])\n",
        "df[\"Education\"] = le.fit_transform(df[\"Education\"])\n",
        "df[\"Self_Employed\"] = le.fit_transform(df[\"Self_Employed\"])\n",
        "df[\"Property_Area\"] = le.fit_transform(df[\"Property_Area\"])\n",
        "df = df.replace(to_replace='3+',value=4)"
      ]
    },
    {
      "cell_type": "code",
      "execution_count": null,
      "metadata": {
        "id": "g1Mmx4Fq0w-A"
      },
      "outputs": [],
      "source": [
        "# Dataset\n",
        "\n",
        "df.head()\n"
      ]
    },
    {
      "cell_type": "code",
      "execution_count": null,
      "metadata": {
        "id": "HI3M2WG50w-A"
      },
      "outputs": [],
      "source": [
        "# data type of the features\n",
        " \n",
        "df.info()"
      ]
    },
    {
      "cell_type": "code",
      "execution_count": null,
      "metadata": {
        "id": "yUr0P5xq0w-A"
      },
      "outputs": [],
      "source": [
        "# Creating new feature to find more accurate predictions\n",
        "\n",
        "df['Total_Income'] = df['ApplicantIncome'] + df['CoapplicantIncome']"
      ]
    },
    {
      "cell_type": "code",
      "execution_count": null,
      "metadata": {
        "id": "p3AZLS-z0w-A"
      },
      "outputs": [],
      "source": [
        "# Dataset\n",
        "\n",
        "df.head()"
      ]
    },
    {
      "cell_type": "markdown",
      "metadata": {
        "id": "Q_uQCy530w-A"
      },
      "source": [
        "# Data Exploration | Exploratory Data Analysis"
      ]
    },
    {
      "cell_type": "code",
      "execution_count": null,
      "metadata": {
        "id": "cGerlfEU0w-A"
      },
      "outputs": [],
      "source": [
        "# visualizing the different features of the dataset\n",
        "\n",
        "sns.countplot(x='Education',hue='Loan_Status',data=df)"
      ]
    },
    {
      "cell_type": "code",
      "execution_count": null,
      "metadata": {
        "id": "hPMDfeyn0w-A"
      },
      "outputs": [],
      "source": [
        "sns.countplot(x='Married',hue='Loan_Status',data=df)"
      ]
    },
    {
      "cell_type": "code",
      "execution_count": null,
      "metadata": {
        "id": "_o4_2pJX0w-A"
      },
      "outputs": [],
      "source": [
        "sns.countplot(x='Dependents',hue='Loan_Status',data=df)\n"
      ]
    },
    {
      "cell_type": "code",
      "execution_count": null,
      "metadata": {
        "id": "37zMyAQ70w-B"
      },
      "outputs": [],
      "source": [
        "sns.countplot(x='Self_Employed',hue='Loan_Status',data=df)\n"
      ]
    },
    {
      "cell_type": "code",
      "execution_count": null,
      "metadata": {
        "id": "_utVASwi0w-B"
      },
      "outputs": [],
      "source": [
        "sns.countplot(x=\"Loan_Status\",data=df)"
      ]
    },
    {
      "cell_type": "code",
      "execution_count": null,
      "metadata": {
        "id": "DQ8uLGlF0w-B"
      },
      "outputs": [],
      "source": [
        "sns.distplot(df[\"LoanAmount\"])"
      ]
    },
    {
      "cell_type": "code",
      "execution_count": null,
      "metadata": {
        "id": "krhIJY640w-B"
      },
      "outputs": [],
      "source": [
        "# Drop unnecessary columns to make processing fast\n",
        "\n",
        "df = df.drop(columns=[\"Loan_ID\",\"ApplicantIncome\",\"CoapplicantIncome\"], axis=1)\n"
      ]
    },
    {
      "cell_type": "code",
      "execution_count": null,
      "metadata": {
        "id": "47r6Cop80w-B"
      },
      "outputs": [],
      "source": [
        "df.head()"
      ]
    },
    {
      "cell_type": "markdown",
      "metadata": {
        "id": "F6jqRv130w-B"
      },
      "source": [
        "# Data Modeling"
      ]
    },
    {
      "cell_type": "code",
      "execution_count": null,
      "metadata": {
        "id": "r5x7x_N00w-B"
      },
      "outputs": [],
      "source": [
        "# Select the input and output variables\n",
        "\n",
        "x = df.drop(columns=['Loan_ID','Loan_Status'], axis=1)\n",
        "y = df['Loan_Status']"
      ]
    },
    {
      "cell_type": "code",
      "execution_count": null,
      "metadata": {
        "id": "Heu4VytH0w-B"
      },
      "outputs": [],
      "source": [
        "# Data modeling\n",
        "\n",
        "x_train, x_test, y_train, y_test = train_test_split(x, y, test_size=0.25, random_state=42)\n",
        "model = LogisticRegression()\n",
        "model.fit(x_train, y_train)\n",
        "print(\"Accuracy is\", model.score(x_test, y_test)*100)"
      ]
    },
    {
      "cell_type": "code",
      "execution_count": null,
      "metadata": {
        "id": "jpmuxtkw0w-B"
      },
      "outputs": [],
      "source": [
        "# predicting model\n",
        "\n",
        "model.fit(x_train, y_train)\n",
        "y_pred = model.predict(x_test)\n",
        "print(\"Accuracy is\", accuracy_score(y_test,y_pred)*100)"
      ]
    },
    {
      "cell_type": "code",
      "execution_count": null,
      "metadata": {
        "id": "XUa4gl3F0w-B"
      },
      "outputs": [],
      "source": [
        "# PCA to reduce dimensions\n",
        "\n",
        "pca = PCA(0.95)\n",
        "x_pca = pca.fit_transform(x)"
      ]
    },
    {
      "cell_type": "code",
      "execution_count": null,
      "metadata": {
        "id": "F6nLFCxb0w-C"
      },
      "outputs": [],
      "source": [
        "x_train, x_test, y_train, y_test = train_test_split(x_pca, y, test_size=0.25, random_state=42)\n",
        "model = LogisticRegression()\n",
        "model.fit(x_train, y_train)\n",
        "print(\"Accuracy is\", model.score(x_test, y_test)*100)"
      ]
    },
    {
      "cell_type": "code",
      "execution_count": null,
      "metadata": {
        "id": "60gCWpYA0w-C"
      },
      "outputs": [],
      "source": [
        "# predicting model\n",
        "\n",
        "model.fit(x_train, y_train)\n",
        "y_pred = model.predict(x_test)\n",
        "print(\"Accuracy is\", accuracy_score(y_test,y_pred)*100)"
      ]
    },
    {
      "cell_type": "code",
      "execution_count": null,
      "metadata": {
        "id": "VLFDZXI80w-C"
      },
      "outputs": [],
      "source": [
        "x_train, x_test, y_train, y_test = train_test_split(x, y, test_size=0.25, random_state=42)\n",
        "model = DecisionTreeClassifier()\n",
        "model.fit(x_train, y_train)\n",
        "print(\"Accuracy is\", model.score(x_test, y_test)*100)"
      ]
    },
    {
      "cell_type": "code",
      "execution_count": null,
      "metadata": {
        "id": "z6fDEwnB0w-C"
      },
      "outputs": [],
      "source": [
        "# predicting model\n",
        "\n",
        "model.fit(x_train, y_train)\n",
        "y_pred = model.predict(x_test)\n",
        "print(\"Accuracy is\", accuracy_score(y_test,y_pred)*100)"
      ]
    },
    {
      "cell_type": "markdown",
      "metadata": {
        "id": "gfaiPzq50w-C"
      },
      "source": [
        "# Presentation and Automation"
      ]
    },
    {
      "cell_type": "code",
      "execution_count": null,
      "metadata": {
        "id": "ZXOdTsAj0w-C"
      },
      "outputs": [],
      "source": [
        "# predicting model\n",
        "\n",
        "model.fit(x_train, y_train)\n",
        "y_pred = model.predict(x_test)\n",
        "\n",
        "cm = confusion_matrix(y_test,y_pred)"
      ]
    },
    {
      "cell_type": "code",
      "execution_count": null,
      "metadata": {
        "id": "2xONAVGl0w-D"
      },
      "outputs": [],
      "source": [
        "sns.heatmap(cm, annot=True)"
      ]
    }
  ],
  "metadata": {
    "kernelspec": {
      "display_name": "Python 3.10.7 64-bit",
      "language": "python",
      "name": "python3"
    },
    "language_info": {
      "codemirror_mode": {
        "name": "ipython",
        "version": 3
      },
      "file_extension": ".py",
      "mimetype": "text/x-python",
      "name": "python",
      "nbconvert_exporter": "python",
      "pygments_lexer": "ipython3",
      "version": "3.10.7"
    },
    "orig_nbformat": 4,
    "vscode": {
      "interpreter": {
        "hash": "034e6fefe421cd059908af00b55f89b1755453420e8e3341e7ca5406259c4c19"
      }
    },
    "colab": {
      "provenance": []
    }
  },
  "nbformat": 4,
  "nbformat_minor": 0
}